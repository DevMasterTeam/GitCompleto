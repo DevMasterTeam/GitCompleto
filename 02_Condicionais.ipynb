{
  "nbformat": 4,
  "nbformat_minor": 0,
  "metadata": {
    "kernelspec": {
      "display_name": "Python 3",
      "language": "python",
      "name": "python3"
    },
    "language_info": {
      "codemirror_mode": {
        "name": "ipython",
        "version": 3
      },
      "file_extension": ".py",
      "mimetype": "text/x-python",
      "name": "python",
      "nbconvert_exporter": "python",
      "pygments_lexer": "ipython3",
      "version": "3.6.1"
    },
    "colab": {
      "name": "02 - Condicionais.ipynb",
      "provenance": [],
      "include_colab_link": true
    }
  },
  "cells": [
    {
      "cell_type": "markdown",
      "metadata": {
        "id": "view-in-github",
        "colab_type": "text"
      },
      "source": [
        "<a href=\"https://colab.research.google.com/github/rbteix/GitCompleto/blob/master/02_Condicionais.ipynb\" target=\"_parent\"><img src=\"https://colab.research.google.com/assets/colab-badge.svg\" alt=\"Open In Colab\"/></a>"
      ]
    },
    {
      "cell_type": "markdown",
      "metadata": {
        "id": "5ssqsp3Ljk7e"
      },
      "source": [
        "![logo2.fw.png](attachment:logo2.fw.png)\n",
        "\n",
        "# Universidade dos Dados\n",
        "GitHub: http://www.github.com/unidados/\n",
        "\n",
        "Site de dicas: https://www.dataquest.io/blog/jupyter-notebook-tips-tricks-shortcuts/\n",
        "\n",
        "Curta a nossa página no Facebook e fique por dentro das atualizações: <a href=http://facebook.com/universidadedosdados>Universidade dos Dados</a>"
      ]
    },
    {
      "cell_type": "markdown",
      "metadata": {
        "id": "qaYHTE-Ujk7o"
      },
      "source": [
        "## Condicionais"
      ]
    },
    {
      "cell_type": "code",
      "metadata": {
        "collapsed": true,
        "id": "qHnnjkAJjk7p"
      },
      "source": [
        "#IF - Compara uma expressão e resulta um boleano. Em caso de verdade, entra no bloco, em caso de não verdade, segue o fluxo"
      ],
      "execution_count": null,
      "outputs": []
    },
    {
      "cell_type": "code",
      "metadata": {
        "colab": {
          "base_uri": "https://localhost:8080/"
        },
        "id": "Wipb0wDDjk7p",
        "outputId": "91908ef9-0584-4e69-c5a1-d6ab834a243d"
      },
      "source": [
        "a = \"Dentro do if\"\n",
        "b = \"Fora do if\"\n",
        "if(2 != 2):\n",
        "    print(a)\n",
        "else:\n",
        "    print(b)"
      ],
      "execution_count": 2,
      "outputs": [
        {
          "output_type": "stream",
          "text": [
            "Fora do if\n"
          ],
          "name": "stdout"
        }
      ]
    },
    {
      "cell_type": "code",
      "metadata": {
        "colab": {
          "base_uri": "https://localhost:8080/"
        },
        "id": "j3pUsaY8jk7q",
        "outputId": "173a4018-079b-4f44-d507-6737e07091d1"
      },
      "source": [
        "num = 9\n",
        "if num > 40:\n",
        "    if num <= 50:\n",
        "        print(\"Menor que 50\")\n",
        "    else:\n",
        "        print(\"Maior que 50\")\n",
        "else:\n",
        "    if num <= 40:\n",
        "        if num >= 10:\n",
        "            print(\"Menor que 40 e maior que 10\")\n",
        "        else:\n",
        "            print(\"Menor que 40 e menor que 10\")\n",
        "        \n",
        "        "
      ],
      "execution_count": 5,
      "outputs": [
        {
          "output_type": "stream",
          "text": [
            "Menor que 40 e menor que 10\n"
          ],
          "name": "stdout"
        }
      ]
    },
    {
      "cell_type": "code",
      "metadata": {
        "colab": {
          "base_uri": "https://localhost:8080/"
        },
        "id": "Mg7ahAnrjk7r",
        "outputId": "650d0095-4926-4dba-aa3a-0082f22e71c8"
      },
      "source": [
        "expr = 40\n",
        "if expr > 50:\n",
        "    print('maior que 50')\n",
        "else:\n",
        "    print('menor ou igual a 50')"
      ],
      "execution_count": 6,
      "outputs": [
        {
          "output_type": "stream",
          "text": [
            "menor ou igual a 50\n"
          ],
          "name": "stdout"
        }
      ]
    },
    {
      "cell_type": "code",
      "metadata": {
        "colab": {
          "base_uri": "https://localhost:8080/"
        },
        "id": "FH94vb9wjk7r",
        "outputId": "445e9c44-d10d-4a30-a5cc-92366253041a"
      },
      "source": [
        "if 2 > 3:\n",
        "    print(\"Opçao 1\")\n",
        "if 2 == 3:\n",
        "    print(\"Opção 2\") \n",
        "if 2 < 3:\n",
        "    print(\"Opção 3\") \n",
        "else:\n",
        "    print(\"Opção 4\") "
      ],
      "execution_count": 14,
      "outputs": [
        {
          "output_type": "stream",
          "text": [
            "Opção 3\n"
          ],
          "name": "stdout"
        }
      ]
    },
    {
      "cell_type": "code",
      "metadata": {
        "colab": {
          "base_uri": "https://localhost:8080/"
        },
        "id": "W2DEDJr8jk7r",
        "outputId": "273c0b44-2e75-452a-a9df-870c59b336f2"
      },
      "source": [
        "if 2 > 3:\n",
        "    print(\"Opçao 1\")\n",
        "elif 2 == 3:\n",
        "    print(\"Opção 2\") \n",
        "elif 2 < 3:\n",
        "    print(\"Opção 3\") \n",
        "else:\n",
        "    print(\"Opção 4\") "
      ],
      "execution_count": 15,
      "outputs": [
        {
          "output_type": "stream",
          "text": [
            "Opção 3\n"
          ],
          "name": "stdout"
        }
      ]
    },
    {
      "cell_type": "code",
      "metadata": {
        "colab": {
          "base_uri": "https://localhost:8080/"
        },
        "id": "NVqOQt33jk7r",
        "outputId": "6e13b6d2-6f19-4a3c-8ed1-52cf1c454f4e"
      },
      "source": [
        "#If condição True\n",
        "a = 11\n",
        "b = a % 2\n",
        "\n",
        "if  b == 0:    \n",
        "\n",
        "    print(\"Par\")\n",
        "\n",
        "else:\n",
        "    \n",
        "    print(\"Ímpar\")"
      ],
      "execution_count": 25,
      "outputs": [
        {
          "output_type": "stream",
          "text": [
            "Ímpar\n"
          ],
          "name": "stdout"
        }
      ]
    },
    {
      "cell_type": "code",
      "metadata": {
        "collapsed": true,
        "colab": {
          "base_uri": "https://localhost:8080/"
        },
        "id": "hJi5NaYqjk7s",
        "outputId": "12c1ffc2-d5f2-4436-d6c4-d33811da984b"
      },
      "source": [
        "a = 10\r\n",
        "if False: #Condição falsa\r\n",
        "  b = a % 2\r\n",
        "  b == 0   \r\n",
        "  print(\"Par\")\r\n",
        "\r\n",
        "else:\r\n",
        "  print(\"Ímpar\")"
      ],
      "execution_count": 26,
      "outputs": [
        {
          "output_type": "stream",
          "text": [
            "Ímpar\n"
          ],
          "name": "stdout"
        }
      ]
    },
    {
      "cell_type": "code",
      "metadata": {
        "colab": {
          "base_uri": "https://localhost:8080/"
        },
        "id": "2kWBV6hHpQSk",
        "outputId": "e112a978-1484-41b6-e84e-c708144b3fd6"
      },
      "source": [
        "m = 0.5\r\n",
        "\r\n",
        "if m > 1:\r\n",
        "  print('maior')\r\n",
        "elif m == 1:\r\n",
        "  print('igual')\r\n",
        "else:\r\n",
        "  print('menor')"
      ],
      "execution_count": 29,
      "outputs": [
        {
          "output_type": "stream",
          "text": [
            "menor\n"
          ],
          "name": "stdout"
        }
      ]
    },
    {
      "cell_type": "code",
      "metadata": {
        "colab": {
          "base_uri": "https://localhost:8080/"
        },
        "id": "9N5EvYDIq2ts",
        "outputId": "6f099290-7483-44da-d569-3150b8c1e155"
      },
      "source": [
        "if False:\r\n",
        "  f=f \r\n",
        "\r\n",
        "print(\"Pulei!\")"
      ],
      "execution_count": 30,
      "outputs": [
        {
          "output_type": "stream",
          "text": [
            "Pulei!\n"
          ],
          "name": "stdout"
        }
      ]
    }
  ]
}